{
 "cells": [
  {
   "cell_type": "code",
   "execution_count": 30,
   "id": "7286f7cf",
   "metadata": {},
   "outputs": [],
   "source": [
    "#Description: Predict the numbers"
   ]
  },
  {
   "cell_type": "code",
   "execution_count": 31,
   "id": "84fe99b5",
   "metadata": {},
   "outputs": [],
   "source": [
    "#Import the libraries\n",
    "import math\n",
    "import numpy as np\n",
    "import pandas as pd\n",
    "pd.set_option('display.max_rows', 1000)\n",
    "pd.set_option('display.max_columns', 100)\n",
    "pd.set_option('display.width', 0)\n",
    "from sklearn.linear_model import LinearRegression\n",
    "from sklearn.model_selection import train_test_split\n",
    "from sklearn.preprocessing import MinMaxScaler\n",
    "from sklearn.preprocessing import StandardScaler\n",
    "from sklearn.preprocessing import Normalizer\n",
    "import matplotlib.pyplot as plt\n",
    "plt.style.use('fivethirtyeight')"
   ]
  },
  {
   "cell_type": "code",
   "execution_count": 32,
   "id": "0f2853d9",
   "metadata": {},
   "outputs": [
    {
     "data": {
      "text/html": [
       "<div>\n",
       "<style scoped>\n",
       "    .dataframe tbody tr th:only-of-type {\n",
       "        vertical-align: middle;\n",
       "    }\n",
       "\n",
       "    .dataframe tbody tr th {\n",
       "        vertical-align: top;\n",
       "    }\n",
       "\n",
       "    .dataframe thead th {\n",
       "        text-align: right;\n",
       "    }\n",
       "</style>\n",
       "<table border=\"1\" class=\"dataframe\">\n",
       "  <thead>\n",
       "    <tr style=\"text-align: right;\">\n",
       "      <th></th>\n",
       "      <th>t</th>\n",
       "      <th>s</th>\n",
       "      <th>top</th>\n",
       "    </tr>\n",
       "  </thead>\n",
       "  <tbody>\n",
       "    <tr>\n",
       "      <th>0</th>\n",
       "      <td>112</td>\n",
       "      <td>39</td>\n",
       "      <td>0.480736</td>\n",
       "    </tr>\n",
       "    <tr>\n",
       "      <th>1</th>\n",
       "      <td>9</td>\n",
       "      <td>1</td>\n",
       "      <td>0.573823</td>\n",
       "    </tr>\n",
       "    <tr>\n",
       "      <th>2</th>\n",
       "      <td>28</td>\n",
       "      <td>19</td>\n",
       "      <td>0.861700</td>\n",
       "    </tr>\n",
       "    <tr>\n",
       "      <th>3</th>\n",
       "      <td>49</td>\n",
       "      <td>21</td>\n",
       "      <td>0.622920</td>\n",
       "    </tr>\n",
       "    <tr>\n",
       "      <th>4</th>\n",
       "      <td>3553</td>\n",
       "      <td>1923</td>\n",
       "      <td>0.564582</td>\n",
       "    </tr>\n",
       "    <tr>\n",
       "      <th>...</th>\n",
       "      <td>...</td>\n",
       "      <td>...</td>\n",
       "      <td>...</td>\n",
       "    </tr>\n",
       "    <tr>\n",
       "      <th>999995</th>\n",
       "      <td>47297</td>\n",
       "      <td>46221</td>\n",
       "      <td>0.979097</td>\n",
       "    </tr>\n",
       "    <tr>\n",
       "      <th>999996</th>\n",
       "      <td>51</td>\n",
       "      <td>20</td>\n",
       "      <td>0.585775</td>\n",
       "    </tr>\n",
       "    <tr>\n",
       "      <th>999997</th>\n",
       "      <td>1990</td>\n",
       "      <td>35</td>\n",
       "      <td>0.027962</td>\n",
       "    </tr>\n",
       "    <tr>\n",
       "      <th>999998</th>\n",
       "      <td>448</td>\n",
       "      <td>34</td>\n",
       "      <td>0.118803</td>\n",
       "    </tr>\n",
       "    <tr>\n",
       "      <th>999999</th>\n",
       "      <td>973</td>\n",
       "      <td>815</td>\n",
       "      <td>0.868069</td>\n",
       "    </tr>\n",
       "  </tbody>\n",
       "</table>\n",
       "<p>1000000 rows × 3 columns</p>\n",
       "</div>"
      ],
      "text/plain": [
       "            t      s       top\n",
       "0         112     39  0.480736\n",
       "1           9      1  0.573823\n",
       "2          28     19  0.861700\n",
       "3          49     21  0.622920\n",
       "4        3553   1923  0.564582\n",
       "...       ...    ...       ...\n",
       "999995  47297  46221  0.979097\n",
       "999996     51     20  0.585775\n",
       "999997   1990     35  0.027962\n",
       "999998    448     34  0.118803\n",
       "999999    973    815  0.868069\n",
       "\n",
       "[1000000 rows x 3 columns]"
      ]
     },
     "execution_count": 32,
     "metadata": {},
     "output_type": "execute_result"
    }
   ],
   "source": [
    "#Get the data  \n",
    "pd.read_csv('test2.csv')"
   ]
  },
  {
   "cell_type": "code",
   "execution_count": 33,
   "id": "f8fed1f9",
   "metadata": {},
   "outputs": [
    {
     "data": {
      "text/html": [
       "<div>\n",
       "<style scoped>\n",
       "    .dataframe tbody tr th:only-of-type {\n",
       "        vertical-align: middle;\n",
       "    }\n",
       "\n",
       "    .dataframe tbody tr th {\n",
       "        vertical-align: top;\n",
       "    }\n",
       "\n",
       "    .dataframe thead th {\n",
       "        text-align: right;\n",
       "    }\n",
       "</style>\n",
       "<table border=\"1\" class=\"dataframe\">\n",
       "  <thead>\n",
       "    <tr style=\"text-align: right;\">\n",
       "      <th></th>\n",
       "      <th>t</th>\n",
       "      <th>s</th>\n",
       "      <th>top</th>\n",
       "    </tr>\n",
       "  </thead>\n",
       "  <tbody>\n",
       "    <tr>\n",
       "      <th>0</th>\n",
       "      <td>112</td>\n",
       "      <td>39</td>\n",
       "      <td>0.480736</td>\n",
       "    </tr>\n",
       "    <tr>\n",
       "      <th>1</th>\n",
       "      <td>9</td>\n",
       "      <td>1</td>\n",
       "      <td>0.573823</td>\n",
       "    </tr>\n",
       "    <tr>\n",
       "      <th>2</th>\n",
       "      <td>28</td>\n",
       "      <td>19</td>\n",
       "      <td>0.861700</td>\n",
       "    </tr>\n",
       "    <tr>\n",
       "      <th>3</th>\n",
       "      <td>49</td>\n",
       "      <td>21</td>\n",
       "      <td>0.622920</td>\n",
       "    </tr>\n",
       "    <tr>\n",
       "      <th>4</th>\n",
       "      <td>3553</td>\n",
       "      <td>1923</td>\n",
       "      <td>0.564582</td>\n",
       "    </tr>\n",
       "    <tr>\n",
       "      <th>...</th>\n",
       "      <td>...</td>\n",
       "      <td>...</td>\n",
       "      <td>...</td>\n",
       "    </tr>\n",
       "    <tr>\n",
       "      <th>999995</th>\n",
       "      <td>47297</td>\n",
       "      <td>46221</td>\n",
       "      <td>0.979097</td>\n",
       "    </tr>\n",
       "    <tr>\n",
       "      <th>999996</th>\n",
       "      <td>51</td>\n",
       "      <td>20</td>\n",
       "      <td>0.585775</td>\n",
       "    </tr>\n",
       "    <tr>\n",
       "      <th>999997</th>\n",
       "      <td>1990</td>\n",
       "      <td>35</td>\n",
       "      <td>0.027962</td>\n",
       "    </tr>\n",
       "    <tr>\n",
       "      <th>999998</th>\n",
       "      <td>448</td>\n",
       "      <td>34</td>\n",
       "      <td>0.118803</td>\n",
       "    </tr>\n",
       "    <tr>\n",
       "      <th>999999</th>\n",
       "      <td>973</td>\n",
       "      <td>815</td>\n",
       "      <td>0.868069</td>\n",
       "    </tr>\n",
       "  </tbody>\n",
       "</table>\n",
       "<p>1000000 rows × 3 columns</p>\n",
       "</div>"
      ],
      "text/plain": [
       "            t      s       top\n",
       "0         112     39  0.480736\n",
       "1           9      1  0.573823\n",
       "2          28     19  0.861700\n",
       "3          49     21  0.622920\n",
       "4        3553   1923  0.564582\n",
       "...       ...    ...       ...\n",
       "999995  47297  46221  0.979097\n",
       "999996     51     20  0.585775\n",
       "999997   1990     35  0.027962\n",
       "999998    448     34  0.118803\n",
       "999999    973    815  0.868069\n",
       "\n",
       "[1000000 rows x 3 columns]"
      ]
     },
     "execution_count": 33,
     "metadata": {},
     "output_type": "execute_result"
    }
   ],
   "source": [
    "df_test2 = pd.read_csv('test2.csv')\n",
    "df_test2"
   ]
  },
  {
   "cell_type": "code",
   "execution_count": 34,
   "id": "0d8d123b",
   "metadata": {},
   "outputs": [
    {
     "data": {
      "text/html": [
       "<div>\n",
       "<style scoped>\n",
       "    .dataframe tbody tr th:only-of-type {\n",
       "        vertical-align: middle;\n",
       "    }\n",
       "\n",
       "    .dataframe tbody tr th {\n",
       "        vertical-align: top;\n",
       "    }\n",
       "\n",
       "    .dataframe thead th {\n",
       "        text-align: right;\n",
       "    }\n",
       "</style>\n",
       "<table border=\"1\" class=\"dataframe\">\n",
       "  <thead>\n",
       "    <tr style=\"text-align: right;\">\n",
       "      <th></th>\n",
       "      <th>t</th>\n",
       "      <th>s</th>\n",
       "      <th>top</th>\n",
       "    </tr>\n",
       "  </thead>\n",
       "  <tbody>\n",
       "    <tr>\n",
       "      <th>5</th>\n",
       "      <td>357687</td>\n",
       "      <td>274669</td>\n",
       "      <td>0.769879</td>\n",
       "    </tr>\n",
       "    <tr>\n",
       "      <th>6</th>\n",
       "      <td>18620</td>\n",
       "      <td>10109</td>\n",
       "      <td>0.553138</td>\n",
       "    </tr>\n",
       "    <tr>\n",
       "      <th>7</th>\n",
       "      <td>4505</td>\n",
       "      <td>2135</td>\n",
       "      <td>0.494828</td>\n",
       "    </tr>\n",
       "    <tr>\n",
       "      <th>8</th>\n",
       "      <td>41</td>\n",
       "      <td>32</td>\n",
       "      <td>0.907501</td>\n",
       "    </tr>\n",
       "    <tr>\n",
       "      <th>9</th>\n",
       "      <td>520361</td>\n",
       "      <td>160276</td>\n",
       "      <td>0.309809</td>\n",
       "    </tr>\n",
       "  </tbody>\n",
       "</table>\n",
       "</div>"
      ],
      "text/plain": [
       "        t       s       top\n",
       "5  357687  274669  0.769879\n",
       "6   18620   10109  0.553138\n",
       "7    4505    2135  0.494828\n",
       "8      41      32  0.907501\n",
       "9  520361  160276  0.309809"
      ]
     },
     "execution_count": 34,
     "metadata": {},
     "output_type": "execute_result"
    }
   ],
   "source": [
    "df_test2.iloc[5:10, 0:3]"
   ]
  },
  {
   "cell_type": "code",
   "execution_count": 35,
   "id": "6c6e8d60",
   "metadata": {},
   "outputs": [
    {
     "data": {
      "text/plain": [
       "t       s       top     \n",
       "1       1       1.000000    5880\n",
       "        0       0.887380    5841\n",
       "2       1       0.946531    4849\n",
       "3       1       0.872987    2879\n",
       "        2       0.964903    2858\n",
       "                            ... \n",
       "4169    3474    0.848865       1\n",
       "        3756    0.913177       1\n",
       "        4057    0.979322       1\n",
       "        4126    0.993246       1\n",
       "999719  309572  0.310959       1\n",
       "Length: 655093, dtype: int64"
      ]
     },
     "execution_count": 35,
     "metadata": {},
     "output_type": "execute_result"
    }
   ],
   "source": [
    "df_test2.value_counts()"
   ]
  },
  {
   "cell_type": "code",
   "execution_count": 36,
   "id": "a77b8a05",
   "metadata": {},
   "outputs": [
    {
     "data": {
      "text/plain": [
       "count    1000000.000000\n",
       "mean       55957.820040\n",
       "std       139746.898368\n",
       "min            1.000000\n",
       "25%           72.000000\n",
       "50%         1456.500000\n",
       "75%        27646.000000\n",
       "max       999719.000000\n",
       "Name: t, dtype: float64"
      ]
     },
     "execution_count": 36,
     "metadata": {},
     "output_type": "execute_result"
    }
   ],
   "source": [
    "df_test2.t.describe()"
   ]
  },
  {
   "cell_type": "code",
   "execution_count": 37,
   "id": "7da4dd6f",
   "metadata": {},
   "outputs": [
    {
     "data": {
      "text/plain": [
       "<AxesSubplot:>"
      ]
     },
     "execution_count": 37,
     "metadata": {},
     "output_type": "execute_result"
    },
    {
     "data": {
      "image/png": "[encoded data removed]",
      "text/plain": [
       "<Figure size 432x288 with 1 Axes>"
      ]
     },
     "metadata": {},
     "output_type": "display_data"
    }
   ],
   "source": [
    "#Visualize t\n",
    "df_test2.t.hist()"
   ]
  },
  {
   "cell_type": "code",
   "execution_count": 38,
   "id": "abe96cca",
   "metadata": {},
   "outputs": [
    {
     "data": {
      "text/plain": [
       "count    1000000.000000\n",
       "mean       27945.814923\n",
       "std        82180.388217\n",
       "min            0.000000\n",
       "25%           29.000000\n",
       "50%          501.000000\n",
       "75%        10020.000000\n",
       "max       988697.000000\n",
       "Name: s, dtype: float64"
      ]
     },
     "execution_count": 38,
     "metadata": {},
     "output_type": "execute_result"
    }
   ],
   "source": [
    "df_test2.s.describe()"
   ]
  },
  {
   "cell_type": "code",
   "execution_count": 39,
   "id": "18b47a26",
   "metadata": {},
   "outputs": [
    {
     "data": {
      "text/plain": [
       "<AxesSubplot:>"
      ]
     },
     "execution_count": 39,
     "metadata": {},
     "output_type": "execute_result"
    },
    {
     "data": {
      "image/png": "[encoded data removed]",
      "text/plain": [
       "<Figure size 432x288 with 1 Axes>"
      ]
     },
     "metadata": {},
     "output_type": "display_data"
    }
   ],
   "source": [
    "#Visualize s\n",
    "df_test2.s.hist()"
   ]
  },
  {
   "cell_type": "code",
   "execution_count": 40,
   "id": "a519e3b5",
   "metadata": {},
   "outputs": [
    {
     "data": {
      "text/plain": [
       "count    1000000.000000\n",
       "mean           0.583325\n",
       "std            0.289023\n",
       "min            0.000032\n",
       "25%            0.344477\n",
       "50%            0.612787\n",
       "75%            0.843794\n",
       "max            1.000000\n",
       "Name: top, dtype: float64"
      ]
     },
     "execution_count": 40,
     "metadata": {},
     "output_type": "execute_result"
    }
   ],
   "source": [
    "df_test2.top.describe()"
   ]
  },
  {
   "cell_type": "code",
   "execution_count": 41,
   "id": "e92461aa",
   "metadata": {},
   "outputs": [
    {
     "data": {
      "text/plain": [
       "<AxesSubplot:>"
      ]
     },
     "execution_count": 41,
     "metadata": {},
     "output_type": "execute_result"
    },
    {
     "data": {
      "image/png": "[encoded data removed]",
      "text/plain": [
       "<Figure size 432x288 with 1 Axes>"
      ]
     },
     "metadata": {},
     "output_type": "display_data"
    }
   ],
   "source": [
    "#Visualize top\n",
    "df_test2.top.hist()"
   ]
  },
  {
   "cell_type": "code",
   "execution_count": 42,
   "id": "43d97808",
   "metadata": {},
   "outputs": [
    {
     "data": {
      "text/html": [
       "<div>\n",
       "<style scoped>\n",
       "    .dataframe tbody tr th:only-of-type {\n",
       "        vertical-align: middle;\n",
       "    }\n",
       "\n",
       "    .dataframe tbody tr th {\n",
       "        vertical-align: top;\n",
       "    }\n",
       "\n",
       "    .dataframe thead th {\n",
       "        text-align: right;\n",
       "    }\n",
       "</style>\n",
       "<table border=\"1\" class=\"dataframe\">\n",
       "  <thead>\n",
       "    <tr style=\"text-align: right;\">\n",
       "      <th></th>\n",
       "      <th>t</th>\n",
       "      <th>s</th>\n",
       "      <th>top</th>\n",
       "      <th>Prediction</th>\n",
       "    </tr>\n",
       "  </thead>\n",
       "  <tbody>\n",
       "    <tr>\n",
       "      <th>0</th>\n",
       "      <td>112</td>\n",
       "      <td>39</td>\n",
       "      <td>0.480736</td>\n",
       "      <td>0.344620</td>\n",
       "    </tr>\n",
       "    <tr>\n",
       "      <th>1</th>\n",
       "      <td>9</td>\n",
       "      <td>1</td>\n",
       "      <td>0.573823</td>\n",
       "      <td>0.924381</td>\n",
       "    </tr>\n",
       "    <tr>\n",
       "      <th>2</th>\n",
       "      <td>28</td>\n",
       "      <td>19</td>\n",
       "      <td>0.861700</td>\n",
       "      <td>0.792315</td>\n",
       "    </tr>\n",
       "    <tr>\n",
       "      <th>3</th>\n",
       "      <td>49</td>\n",
       "      <td>21</td>\n",
       "      <td>0.622920</td>\n",
       "      <td>0.501892</td>\n",
       "    </tr>\n",
       "    <tr>\n",
       "      <th>4</th>\n",
       "      <td>3553</td>\n",
       "      <td>1923</td>\n",
       "      <td>0.564582</td>\n",
       "      <td>0.405937</td>\n",
       "    </tr>\n",
       "    <tr>\n",
       "      <th>...</th>\n",
       "      <td>...</td>\n",
       "      <td>...</td>\n",
       "      <td>...</td>\n",
       "      <td>...</td>\n",
       "    </tr>\n",
       "    <tr>\n",
       "      <th>999995</th>\n",
       "      <td>47297</td>\n",
       "      <td>46221</td>\n",
       "      <td>0.979097</td>\n",
       "      <td>NaN</td>\n",
       "    </tr>\n",
       "    <tr>\n",
       "      <th>999996</th>\n",
       "      <td>51</td>\n",
       "      <td>20</td>\n",
       "      <td>0.585775</td>\n",
       "      <td>NaN</td>\n",
       "    </tr>\n",
       "    <tr>\n",
       "      <th>999997</th>\n",
       "      <td>1990</td>\n",
       "      <td>35</td>\n",
       "      <td>0.027962</td>\n",
       "      <td>NaN</td>\n",
       "    </tr>\n",
       "    <tr>\n",
       "      <th>999998</th>\n",
       "      <td>448</td>\n",
       "      <td>34</td>\n",
       "      <td>0.118803</td>\n",
       "      <td>NaN</td>\n",
       "    </tr>\n",
       "    <tr>\n",
       "      <th>999999</th>\n",
       "      <td>973</td>\n",
       "      <td>815</td>\n",
       "      <td>0.868069</td>\n",
       "      <td>NaN</td>\n",
       "    </tr>\n",
       "  </tbody>\n",
       "</table>\n",
       "<p>1000000 rows × 4 columns</p>\n",
       "</div>"
      ],
      "text/plain": [
       "            t      s       top  Prediction\n",
       "0         112     39  0.480736    0.344620\n",
       "1           9      1  0.573823    0.924381\n",
       "2          28     19  0.861700    0.792315\n",
       "3          49     21  0.622920    0.501892\n",
       "4        3553   1923  0.564582    0.405937\n",
       "...       ...    ...       ...         ...\n",
       "999995  47297  46221  0.979097         NaN\n",
       "999996     51     20  0.585775         NaN\n",
       "999997   1990     35  0.027962         NaN\n",
       "999998    448     34  0.118803         NaN\n",
       "999999    973    815  0.868069         NaN\n",
       "\n",
       "[1000000 rows x 4 columns]"
      ]
     },
     "execution_count": 42,
     "metadata": {},
     "output_type": "execute_result"
    }
   ],
   "source": [
    "#Create a variable for predicting 'n' numbers\n",
    "projection = 1000\n",
    "#Create a new column called prediction\n",
    "df_test2['Prediction'] = df_test2[['top']].shift(-projection)\n",
    "#Show the dataset\n",
    "df_test2"
   ]
  },
  {
   "cell_type": "code",
   "execution_count": 43,
   "id": "ace9dbce",
   "metadata": {},
   "outputs": [
    {
     "name": "stdout",
     "output_type": "stream",
     "text": [
      "[[112  39]\n",
      " [  9   1]\n",
      " [ 28  19]\n",
      " ...\n",
      " [ 37  23]\n",
      " [ 48  17]\n",
      " [  9   3]]\n"
     ]
    }
   ],
   "source": [
    "#Create the independent dataset (X)\n",
    "X = np.array(df_test2[['t', 's']])\n",
    "#Remove the last 1000 rows\n",
    "X = X[: -projection]\n",
    "print(X)"
   ]
  },
  {
   "cell_type": "code",
   "execution_count": 44,
   "id": "4d4472ee",
   "metadata": {},
   "outputs": [
    {
     "data": {
      "text/plain": [
       "999000"
      ]
     },
     "execution_count": 44,
     "metadata": {},
     "output_type": "execute_result"
    }
   ],
   "source": [
    "len(X)"
   ]
  },
  {
   "cell_type": "code",
   "execution_count": 45,
   "id": "d0d4c4b9",
   "metadata": {},
   "outputs": [
    {
     "name": "stdout",
     "output_type": "stream",
     "text": [
      "[0.4807357  0.57382272 0.86170045 ... 0.80459978 0.55549523 0.74247704]\n"
     ]
    }
   ],
   "source": [
    "#Create the dependent dataset (y)\n",
    "y = df_test2['top'].values\n",
    "y = y[: -projection]\n",
    "print(y)"
   ]
  },
  {
   "cell_type": "code",
   "execution_count": 46,
   "id": "dc15a6ff",
   "metadata": {},
   "outputs": [
    {
     "data": {
      "text/plain": [
       "999000"
      ]
     },
     "execution_count": 46,
     "metadata": {},
     "output_type": "execute_result"
    }
   ],
   "source": [
    "len(y)"
   ]
  },
  {
   "cell_type": "code",
   "execution_count": 47,
   "id": "a1e24b31",
   "metadata": {},
   "outputs": [],
   "source": [
    "#Split the dataset into 85% training and 15% testing datasets\n",
    "X_train, X_test, y_train, y_test = train_test_split(X, y, test_size = 0.15, random_state = 0)"
   ]
  },
  {
   "cell_type": "code",
   "execution_count": 48,
   "id": "65b70fb2",
   "metadata": {},
   "outputs": [
    {
     "data": {
      "text/plain": [
       "849150"
      ]
     },
     "execution_count": 48,
     "metadata": {},
     "output_type": "execute_result"
    }
   ],
   "source": [
    "len(X_train)"
   ]
  },
  {
   "cell_type": "code",
   "execution_count": 49,
   "id": "5a7bd521",
   "metadata": {},
   "outputs": [
    {
     "data": {
      "text/plain": [
       "149850"
      ]
     },
     "execution_count": 49,
     "metadata": {},
     "output_type": "execute_result"
    }
   ],
   "source": [
    "len(X_test)"
   ]
  },
  {
   "cell_type": "code",
   "execution_count": 50,
   "id": "05e176ca",
   "metadata": {},
   "outputs": [
    {
     "data": {
      "text/html": [
       "<div>\n",
       "<style scoped>\n",
       "    .dataframe tbody tr th:only-of-type {\n",
       "        vertical-align: middle;\n",
       "    }\n",
       "\n",
       "    .dataframe tbody tr th {\n",
       "        vertical-align: top;\n",
       "    }\n",
       "\n",
       "    .dataframe thead th {\n",
       "        text-align: right;\n",
       "    }\n",
       "</style>\n",
       "<table border=\"1\" class=\"dataframe\">\n",
       "  <thead>\n",
       "    <tr style=\"text-align: right;\">\n",
       "      <th></th>\n",
       "      <th>t_test</th>\n",
       "      <th>s_test</th>\n",
       "    </tr>\n",
       "  </thead>\n",
       "  <tbody>\n",
       "    <tr>\n",
       "      <th>0</th>\n",
       "      <td>8401</td>\n",
       "      <td>7412</td>\n",
       "    </tr>\n",
       "    <tr>\n",
       "      <th>1</th>\n",
       "      <td>44819</td>\n",
       "      <td>16265</td>\n",
       "    </tr>\n",
       "    <tr>\n",
       "      <th>2</th>\n",
       "      <td>16</td>\n",
       "      <td>7</td>\n",
       "    </tr>\n",
       "    <tr>\n",
       "      <th>3</th>\n",
       "      <td>26</td>\n",
       "      <td>18</td>\n",
       "    </tr>\n",
       "    <tr>\n",
       "      <th>4</th>\n",
       "      <td>363569</td>\n",
       "      <td>318672</td>\n",
       "    </tr>\n",
       "    <tr>\n",
       "      <th>...</th>\n",
       "      <td>...</td>\n",
       "      <td>...</td>\n",
       "    </tr>\n",
       "    <tr>\n",
       "      <th>149845</th>\n",
       "      <td>12120</td>\n",
       "      <td>7596</td>\n",
       "    </tr>\n",
       "    <tr>\n",
       "      <th>149846</th>\n",
       "      <td>24063</td>\n",
       "      <td>10693</td>\n",
       "    </tr>\n",
       "    <tr>\n",
       "      <th>149847</th>\n",
       "      <td>6036</td>\n",
       "      <td>4705</td>\n",
       "    </tr>\n",
       "    <tr>\n",
       "      <th>149848</th>\n",
       "      <td>26</td>\n",
       "      <td>8</td>\n",
       "    </tr>\n",
       "    <tr>\n",
       "      <th>149849</th>\n",
       "      <td>301</td>\n",
       "      <td>196</td>\n",
       "    </tr>\n",
       "  </tbody>\n",
       "</table>\n",
       "<p>149850 rows × 2 columns</p>\n",
       "</div>"
      ],
      "text/plain": [
       "        t_test  s_test\n",
       "0         8401    7412\n",
       "1        44819   16265\n",
       "2           16       7\n",
       "3           26      18\n",
       "4       363569  318672\n",
       "...        ...     ...\n",
       "149845   12120    7596\n",
       "149846   24063   10693\n",
       "149847    6036    4705\n",
       "149848      26       8\n",
       "149849     301     196\n",
       "\n",
       "[149850 rows x 2 columns]"
      ]
     },
     "execution_count": 50,
     "metadata": {},
     "output_type": "execute_result"
    }
   ],
   "source": [
    "df_X_test= pd.DataFrame(X_test, columns = ['t_test', 's_test'])\n",
    "df_X_test"
   ]
  },
  {
   "cell_type": "code",
   "execution_count": 51,
   "id": "0b4fa63e",
   "metadata": {},
   "outputs": [
    {
     "data": {
      "text/html": [
       "<div>\n",
       "<style scoped>\n",
       "    .dataframe tbody tr th:only-of-type {\n",
       "        vertical-align: middle;\n",
       "    }\n",
       "\n",
       "    .dataframe tbody tr th {\n",
       "        vertical-align: top;\n",
       "    }\n",
       "\n",
       "    .dataframe thead th {\n",
       "        text-align: right;\n",
       "    }\n",
       "</style>\n",
       "<table border=\"1\" class=\"dataframe\">\n",
       "  <thead>\n",
       "    <tr style=\"text-align: right;\">\n",
       "      <th></th>\n",
       "      <th>top_test</th>\n",
       "    </tr>\n",
       "  </thead>\n",
       "  <tbody>\n",
       "    <tr>\n",
       "      <th>0</th>\n",
       "      <td>0.891790</td>\n",
       "    </tr>\n",
       "    <tr>\n",
       "      <th>1</th>\n",
       "      <td>0.369303</td>\n",
       "    </tr>\n",
       "    <tr>\n",
       "      <th>2</th>\n",
       "      <td>0.743830</td>\n",
       "    </tr>\n",
       "    <tr>\n",
       "      <th>3</th>\n",
       "      <td>0.874612</td>\n",
       "    </tr>\n",
       "    <tr>\n",
       "      <th>4</th>\n",
       "      <td>0.878034</td>\n",
       "    </tr>\n",
       "    <tr>\n",
       "      <th>...</th>\n",
       "      <td>...</td>\n",
       "    </tr>\n",
       "    <tr>\n",
       "      <th>149845</th>\n",
       "      <td>0.638979</td>\n",
       "    </tr>\n",
       "    <tr>\n",
       "      <th>149846</th>\n",
       "      <td>0.453384</td>\n",
       "    </tr>\n",
       "    <tr>\n",
       "      <th>149847</th>\n",
       "      <td>0.794099</td>\n",
       "    </tr>\n",
       "    <tr>\n",
       "      <th>149848</th>\n",
       "      <td>0.579448</td>\n",
       "    </tr>\n",
       "    <tr>\n",
       "      <th>149849</th>\n",
       "      <td>0.723526</td>\n",
       "    </tr>\n",
       "  </tbody>\n",
       "</table>\n",
       "<p>149850 rows × 1 columns</p>\n",
       "</div>"
      ],
      "text/plain": [
       "        top_test\n",
       "0       0.891790\n",
       "1       0.369303\n",
       "2       0.743830\n",
       "3       0.874612\n",
       "4       0.878034\n",
       "...          ...\n",
       "149845  0.638979\n",
       "149846  0.453384\n",
       "149847  0.794099\n",
       "149848  0.579448\n",
       "149849  0.723526\n",
       "\n",
       "[149850 rows x 1 columns]"
      ]
     },
     "execution_count": 51,
     "metadata": {},
     "output_type": "execute_result"
    }
   ],
   "source": [
    "df_y_test= pd.DataFrame(y_test, columns = ['top_test'])\n",
    "df_y_test"
   ]
  },
  {
   "cell_type": "code",
   "execution_count": 52,
   "id": "70afc1f5",
   "metadata": {},
   "outputs": [
    {
     "data": {
      "text/plain": [
       "LinearRegression()"
      ]
     },
     "execution_count": 52,
     "metadata": {},
     "output_type": "execute_result"
    }
   ],
   "source": [
    "#Create and train the model\n",
    "linReg = LinearRegression()\n",
    "#Train the model\n",
    "linReg.fit(X_train, y_train)"
   ]
  },
  {
   "cell_type": "code",
   "execution_count": 53,
   "id": "54b677b5",
   "metadata": {},
   "outputs": [
    {
     "name": "stdout",
     "output_type": "stream",
     "text": [
      "Linear regression Confidence: 0.15218363104530075\n"
     ]
    }
   ],
   "source": [
    "#Test the model using score\n",
    "linReg_confidence = linReg.score(X_test, y_test)\n",
    "print('Linear regression Confidence:' , linReg_confidence)"
   ]
  },
  {
   "cell_type": "markdown",
   "id": "9d0bafe7",
   "metadata": {},
   "source": [
    "X_projection = np.array(df_test2[['t', 's']])[-projection :]\n",
    "print(X_projection)"
   ]
  },
  {
   "cell_type": "code",
   "execution_count": 54,
   "id": "ebb09fe8",
   "metadata": {},
   "outputs": [
    {
     "name": "stdout",
     "output_type": "stream",
     "text": [
      "[0.60221342 0.57077134 0.59624092 ... 0.59900644 0.59622877 0.59628959]\n"
     ]
    }
   ],
   "source": [
    "linReg_prediction = linReg.predict(X_test)\n",
    "print(linReg_prediction)"
   ]
  },
  {
   "cell_type": "code",
   "execution_count": 55,
   "id": "8a085ec9",
   "metadata": {},
   "outputs": [
    {
     "data": {
      "text/html": [
       "<div>\n",
       "<style scoped>\n",
       "    .dataframe tbody tr th:only-of-type {\n",
       "        vertical-align: middle;\n",
       "    }\n",
       "\n",
       "    .dataframe tbody tr th {\n",
       "        vertical-align: top;\n",
       "    }\n",
       "\n",
       "    .dataframe thead th {\n",
       "        text-align: right;\n",
       "    }\n",
       "</style>\n",
       "<table border=\"1\" class=\"dataframe\">\n",
       "  <thead>\n",
       "    <tr style=\"text-align: right;\">\n",
       "      <th></th>\n",
       "      <th>LinReg</th>\n",
       "    </tr>\n",
       "  </thead>\n",
       "  <tbody>\n",
       "    <tr>\n",
       "      <th>0</th>\n",
       "      <td>0.602213</td>\n",
       "    </tr>\n",
       "    <tr>\n",
       "      <th>1</th>\n",
       "      <td>0.570771</td>\n",
       "    </tr>\n",
       "    <tr>\n",
       "      <th>2</th>\n",
       "      <td>0.596241</td>\n",
       "    </tr>\n",
       "    <tr>\n",
       "      <th>3</th>\n",
       "      <td>0.596253</td>\n",
       "    </tr>\n",
       "    <tr>\n",
       "      <th>4</th>\n",
       "      <td>0.849291</td>\n",
       "    </tr>\n",
       "    <tr>\n",
       "      <th>...</th>\n",
       "      <td>...</td>\n",
       "    </tr>\n",
       "    <tr>\n",
       "      <th>149845</th>\n",
       "      <td>0.597230</td>\n",
       "    </tr>\n",
       "    <tr>\n",
       "      <th>149846</th>\n",
       "      <td>0.587396</td>\n",
       "    </tr>\n",
       "    <tr>\n",
       "      <th>149847</th>\n",
       "      <td>0.599006</td>\n",
       "    </tr>\n",
       "    <tr>\n",
       "      <th>149848</th>\n",
       "      <td>0.596229</td>\n",
       "    </tr>\n",
       "    <tr>\n",
       "      <th>149849</th>\n",
       "      <td>0.596290</td>\n",
       "    </tr>\n",
       "  </tbody>\n",
       "</table>\n",
       "<p>149850 rows × 1 columns</p>\n",
       "</div>"
      ],
      "text/plain": [
       "          LinReg\n",
       "0       0.602213\n",
       "1       0.570771\n",
       "2       0.596241\n",
       "3       0.596253\n",
       "4       0.849291\n",
       "...          ...\n",
       "149845  0.597230\n",
       "149846  0.587396\n",
       "149847  0.599006\n",
       "149848  0.596229\n",
       "149849  0.596290\n",
       "\n",
       "[149850 rows x 1 columns]"
      ]
     },
     "execution_count": 55,
     "metadata": {},
     "output_type": "execute_result"
    }
   ],
   "source": [
    "df_linReg_prediction= pd.DataFrame(linReg_prediction, columns = ['LinReg'])\n",
    "df_linReg_prediction"
   ]
  },
  {
   "cell_type": "code",
   "execution_count": 56,
   "id": "12b54a21",
   "metadata": {},
   "outputs": [
    {
     "data": {
      "text/plain": [
       "149850"
      ]
     },
     "execution_count": 56,
     "metadata": {},
     "output_type": "execute_result"
    }
   ],
   "source": [
    "len(linReg_prediction)"
   ]
  },
  {
   "cell_type": "code",
   "execution_count": 57,
   "id": "f0c80708",
   "metadata": {},
   "outputs": [
    {
     "data": {
      "text/html": [
       "<div>\n",
       "<style scoped>\n",
       "    .dataframe tbody tr th:only-of-type {\n",
       "        vertical-align: middle;\n",
       "    }\n",
       "\n",
       "    .dataframe tbody tr th {\n",
       "        vertical-align: top;\n",
       "    }\n",
       "\n",
       "    .dataframe thead th {\n",
       "        text-align: right;\n",
       "    }\n",
       "</style>\n",
       "<table border=\"1\" class=\"dataframe\">\n",
       "  <thead>\n",
       "    <tr style=\"text-align: right;\">\n",
       "      <th></th>\n",
       "      <th>t_test</th>\n",
       "      <th>s_test</th>\n",
       "      <th>top_test</th>\n",
       "      <th>LinReg</th>\n",
       "    </tr>\n",
       "  </thead>\n",
       "  <tbody>\n",
       "    <tr>\n",
       "      <th>0</th>\n",
       "      <td>8401</td>\n",
       "      <td>7412</td>\n",
       "      <td>0.891790</td>\n",
       "      <td>0.602213</td>\n",
       "    </tr>\n",
       "    <tr>\n",
       "      <th>1</th>\n",
       "      <td>44819</td>\n",
       "      <td>16265</td>\n",
       "      <td>0.369303</td>\n",
       "      <td>0.570771</td>\n",
       "    </tr>\n",
       "    <tr>\n",
       "      <th>2</th>\n",
       "      <td>16</td>\n",
       "      <td>7</td>\n",
       "      <td>0.743830</td>\n",
       "      <td>0.596241</td>\n",
       "    </tr>\n",
       "    <tr>\n",
       "      <th>3</th>\n",
       "      <td>26</td>\n",
       "      <td>18</td>\n",
       "      <td>0.874612</td>\n",
       "      <td>0.596253</td>\n",
       "    </tr>\n",
       "    <tr>\n",
       "      <th>4</th>\n",
       "      <td>363569</td>\n",
       "      <td>318672</td>\n",
       "      <td>0.878034</td>\n",
       "      <td>0.849291</td>\n",
       "    </tr>\n",
       "    <tr>\n",
       "      <th>...</th>\n",
       "      <td>...</td>\n",
       "      <td>...</td>\n",
       "      <td>...</td>\n",
       "      <td>...</td>\n",
       "    </tr>\n",
       "    <tr>\n",
       "      <th>149845</th>\n",
       "      <td>12120</td>\n",
       "      <td>7596</td>\n",
       "      <td>0.638979</td>\n",
       "      <td>0.597230</td>\n",
       "    </tr>\n",
       "    <tr>\n",
       "      <th>149846</th>\n",
       "      <td>24063</td>\n",
       "      <td>10693</td>\n",
       "      <td>0.453384</td>\n",
       "      <td>0.587396</td>\n",
       "    </tr>\n",
       "    <tr>\n",
       "      <th>149847</th>\n",
       "      <td>6036</td>\n",
       "      <td>4705</td>\n",
       "      <td>0.794099</td>\n",
       "      <td>0.599006</td>\n",
       "    </tr>\n",
       "    <tr>\n",
       "      <th>149848</th>\n",
       "      <td>26</td>\n",
       "      <td>8</td>\n",
       "      <td>0.579448</td>\n",
       "      <td>0.596229</td>\n",
       "    </tr>\n",
       "    <tr>\n",
       "      <th>149849</th>\n",
       "      <td>301</td>\n",
       "      <td>196</td>\n",
       "      <td>0.723526</td>\n",
       "      <td>0.596290</td>\n",
       "    </tr>\n",
       "  </tbody>\n",
       "</table>\n",
       "<p>149850 rows × 4 columns</p>\n",
       "</div>"
      ],
      "text/plain": [
       "        t_test  s_test  top_test    LinReg\n",
       "0         8401    7412  0.891790  0.602213\n",
       "1        44819   16265  0.369303  0.570771\n",
       "2           16       7  0.743830  0.596241\n",
       "3           26      18  0.874612  0.596253\n",
       "4       363569  318672  0.878034  0.849291\n",
       "...        ...     ...       ...       ...\n",
       "149845   12120    7596  0.638979  0.597230\n",
       "149846   24063   10693  0.453384  0.587396\n",
       "149847    6036    4705  0.794099  0.599006\n",
       "149848      26       8  0.579448  0.596229\n",
       "149849     301     196  0.723526  0.596290\n",
       "\n",
       "[149850 rows x 4 columns]"
      ]
     },
     "execution_count": 57,
     "metadata": {},
     "output_type": "execute_result"
    }
   ],
   "source": [
    "res = pd.concat([df_X_test, df_y_test, df_linReg_prediction],axis=1)\n",
    "res"
   ]
  },
  {
   "cell_type": "code",
   "execution_count": 58,
   "id": "846dc31e",
   "metadata": {},
   "outputs": [],
   "source": [
    "#Ensemble methods\n",
    "from sklearn.ensemble import RandomForestRegressor\n",
    "from sklearn.metrics import mean_absolute_error"
   ]
  },
  {
   "cell_type": "code",
   "execution_count": 59,
   "id": "0476126d",
   "metadata": {},
   "outputs": [
    {
     "data": {
      "text/plain": [
       "0.000599423870427995"
      ]
     },
     "execution_count": 59,
     "metadata": {},
     "output_type": "execute_result"
    }
   ],
   "source": [
    "forest = RandomForestRegressor(n_estimators=10)\n",
    "forest.fit(X_train, y_train)\n",
    "forest_prediction = forest.predict(X_test)\n",
    "mean_absolute_error(y_test, forest_prediction)"
   ]
  },
  {
   "cell_type": "code",
   "execution_count": 60,
   "id": "ca5a3b47",
   "metadata": {},
   "outputs": [
    {
     "name": "stdout",
     "output_type": "stream",
     "text": [
      "[0.89125904 0.36921499 0.74382954 ... 0.79205873 0.57944765 0.7234304 ]\n"
     ]
    }
   ],
   "source": [
    "print(forest_prediction)"
   ]
  },
  {
   "cell_type": "code",
   "execution_count": 61,
   "id": "19b09ffc",
   "metadata": {
    "scrolled": true
   },
   "outputs": [
    {
     "data": {
      "text/plain": [
       "149850"
      ]
     },
     "execution_count": 61,
     "metadata": {},
     "output_type": "execute_result"
    }
   ],
   "source": [
    "len(forest_prediction)"
   ]
  },
  {
   "cell_type": "code",
   "execution_count": 62,
   "id": "63e782a9",
   "metadata": {},
   "outputs": [
    {
     "data": {
      "text/html": [
       "<div>\n",
       "<style scoped>\n",
       "    .dataframe tbody tr th:only-of-type {\n",
       "        vertical-align: middle;\n",
       "    }\n",
       "\n",
       "    .dataframe tbody tr th {\n",
       "        vertical-align: top;\n",
       "    }\n",
       "\n",
       "    .dataframe thead th {\n",
       "        text-align: right;\n",
       "    }\n",
       "</style>\n",
       "<table border=\"1\" class=\"dataframe\">\n",
       "  <thead>\n",
       "    <tr style=\"text-align: right;\">\n",
       "      <th></th>\n",
       "      <th>forest</th>\n",
       "    </tr>\n",
       "  </thead>\n",
       "  <tbody>\n",
       "    <tr>\n",
       "      <th>0</th>\n",
       "      <td>0.891259</td>\n",
       "    </tr>\n",
       "    <tr>\n",
       "      <th>1</th>\n",
       "      <td>0.369215</td>\n",
       "    </tr>\n",
       "    <tr>\n",
       "      <th>2</th>\n",
       "      <td>0.743830</td>\n",
       "    </tr>\n",
       "    <tr>\n",
       "      <th>3</th>\n",
       "      <td>0.874612</td>\n",
       "    </tr>\n",
       "    <tr>\n",
       "      <th>4</th>\n",
       "      <td>0.881162</td>\n",
       "    </tr>\n",
       "    <tr>\n",
       "      <th>...</th>\n",
       "      <td>...</td>\n",
       "    </tr>\n",
       "    <tr>\n",
       "      <th>149845</th>\n",
       "      <td>0.635772</td>\n",
       "    </tr>\n",
       "    <tr>\n",
       "      <th>149846</th>\n",
       "      <td>0.451254</td>\n",
       "    </tr>\n",
       "    <tr>\n",
       "      <th>149847</th>\n",
       "      <td>0.792059</td>\n",
       "    </tr>\n",
       "    <tr>\n",
       "      <th>149848</th>\n",
       "      <td>0.579448</td>\n",
       "    </tr>\n",
       "    <tr>\n",
       "      <th>149849</th>\n",
       "      <td>0.723430</td>\n",
       "    </tr>\n",
       "  </tbody>\n",
       "</table>\n",
       "<p>149850 rows × 1 columns</p>\n",
       "</div>"
      ],
      "text/plain": [
       "          forest\n",
       "0       0.891259\n",
       "1       0.369215\n",
       "2       0.743830\n",
       "3       0.874612\n",
       "4       0.881162\n",
       "...          ...\n",
       "149845  0.635772\n",
       "149846  0.451254\n",
       "149847  0.792059\n",
       "149848  0.579448\n",
       "149849  0.723430\n",
       "\n",
       "[149850 rows x 1 columns]"
      ]
     },
     "execution_count": 62,
     "metadata": {},
     "output_type": "execute_result"
    }
   ],
   "source": [
    "df_forest_prediction= pd.DataFrame(forest_prediction, columns = ['forest'])\n",
    "df_forest_prediction"
   ]
  },
  {
   "cell_type": "code",
   "execution_count": 63,
   "id": "e366d70b",
   "metadata": {},
   "outputs": [],
   "source": [
    "#Nearest Neighbors method\n",
    "from sklearn.neighbors import KNeighborsRegressor"
   ]
  },
  {
   "cell_type": "code",
   "execution_count": 64,
   "id": "4af171fc",
   "metadata": {},
   "outputs": [
    {
     "name": "stdout",
     "output_type": "stream",
     "text": [
      "KNN mae = 0.0008091189714607065\n"
     ]
    }
   ],
   "source": [
    "knn = KNeighborsRegressor(n_neighbors=3)\n",
    "knn.fit(X_train, y_train)\n",
    "knn_prediction = knn.predict(X_test)\n",
    "mae = mean_absolute_error(y_test, knn_prediction)\n",
    "print(f\"KNN mae = {mae}\")"
   ]
  },
  {
   "cell_type": "code",
   "execution_count": 65,
   "id": "74036d30",
   "metadata": {},
   "outputs": [
    {
     "name": "stdout",
     "output_type": "stream",
     "text": [
      "[0.89057353 0.37062348 0.74382954 ... 0.79456813 0.57944765 0.72179856]\n"
     ]
    }
   ],
   "source": [
    "print(knn_prediction)"
   ]
  },
  {
   "cell_type": "code",
   "execution_count": 66,
   "id": "bc6fb61a",
   "metadata": {},
   "outputs": [
    {
     "data": {
      "text/html": [
       "<div>\n",
       "<style scoped>\n",
       "    .dataframe tbody tr th:only-of-type {\n",
       "        vertical-align: middle;\n",
       "    }\n",
       "\n",
       "    .dataframe tbody tr th {\n",
       "        vertical-align: top;\n",
       "    }\n",
       "\n",
       "    .dataframe thead th {\n",
       "        text-align: right;\n",
       "    }\n",
       "</style>\n",
       "<table border=\"1\" class=\"dataframe\">\n",
       "  <thead>\n",
       "    <tr style=\"text-align: right;\">\n",
       "      <th></th>\n",
       "      <th>knn</th>\n",
       "    </tr>\n",
       "  </thead>\n",
       "  <tbody>\n",
       "    <tr>\n",
       "      <th>0</th>\n",
       "      <td>0.890574</td>\n",
       "    </tr>\n",
       "    <tr>\n",
       "      <th>1</th>\n",
       "      <td>0.370623</td>\n",
       "    </tr>\n",
       "    <tr>\n",
       "      <th>2</th>\n",
       "      <td>0.743830</td>\n",
       "    </tr>\n",
       "    <tr>\n",
       "      <th>3</th>\n",
       "      <td>0.874612</td>\n",
       "    </tr>\n",
       "    <tr>\n",
       "      <th>4</th>\n",
       "      <td>0.884226</td>\n",
       "    </tr>\n",
       "    <tr>\n",
       "      <th>...</th>\n",
       "      <td>...</td>\n",
       "    </tr>\n",
       "    <tr>\n",
       "      <th>149845</th>\n",
       "      <td>0.639263</td>\n",
       "    </tr>\n",
       "    <tr>\n",
       "      <th>149846</th>\n",
       "      <td>0.454097</td>\n",
       "    </tr>\n",
       "    <tr>\n",
       "      <th>149847</th>\n",
       "      <td>0.794568</td>\n",
       "    </tr>\n",
       "    <tr>\n",
       "      <th>149848</th>\n",
       "      <td>0.579448</td>\n",
       "    </tr>\n",
       "    <tr>\n",
       "      <th>149849</th>\n",
       "      <td>0.721799</td>\n",
       "    </tr>\n",
       "  </tbody>\n",
       "</table>\n",
       "<p>149850 rows × 1 columns</p>\n",
       "</div>"
      ],
      "text/plain": [
       "             knn\n",
       "0       0.890574\n",
       "1       0.370623\n",
       "2       0.743830\n",
       "3       0.874612\n",
       "4       0.884226\n",
       "...          ...\n",
       "149845  0.639263\n",
       "149846  0.454097\n",
       "149847  0.794568\n",
       "149848  0.579448\n",
       "149849  0.721799\n",
       "\n",
       "[149850 rows x 1 columns]"
      ]
     },
     "execution_count": 66,
     "metadata": {},
     "output_type": "execute_result"
    }
   ],
   "source": [
    "df_knn_prediction= pd.DataFrame(knn_prediction, columns = ['knn'])\n",
    "df_knn_prediction"
   ]
  },
  {
   "cell_type": "code",
   "execution_count": 67,
   "id": "51aa05eb",
   "metadata": {},
   "outputs": [],
   "source": [
    "#Neural network models\n",
    "from sklearn.neural_network import MLPRegressor"
   ]
  },
  {
   "cell_type": "markdown",
   "id": "7d0f6504",
   "metadata": {},
   "source": [
    "scaler = Normalizer().fit(df_test2)\n",
    "normalized_df_test2 = scaler.transform(df_test2)\n",
    "\n",
    "print('До нормализации:')\n",
    "print(df_test2[:3])\n",
    "print()\n",
    "print('После нормализации:')\n",
    "normalized_df_test2[:3]"
   ]
  },
  {
   "cell_type": "code",
   "execution_count": 68,
   "id": "d3343611",
   "metadata": {},
   "outputs": [
    {
     "name": "stdout",
     "output_type": "stream",
     "text": [
      "MLP mae = 0.5061818502338755\n"
     ]
    }
   ],
   "source": [
    "mlp = MLPRegressor(random_state=42, max_iter=1000, hidden_layer_sizes=(10), activation='relu')\n",
    "mlp.fit(X_train, y_train)\n",
    "mlp_prediction = mlp.predict(X_test)\n",
    "mae = mean_absolute_error(y_test, mlp_prediction)\n",
    "print(f\"MLP mae = {mae}\")"
   ]
  },
  {
   "cell_type": "markdown",
   "id": "16d8390b",
   "metadata": {},
   "source": [
    "mlp_prediction = scaler.inverse_transform(mlp_prediction)"
   ]
  },
  {
   "cell_type": "code",
   "execution_count": 69,
   "id": "5b4ca363",
   "metadata": {},
   "outputs": [
    {
     "name": "stdout",
     "output_type": "stream",
     "text": [
      "[0.61889642 0.34444083 0.76883117 ... 0.58285747 0.67063919 0.5473882 ]\n"
     ]
    }
   ],
   "source": [
    "print(mlp_prediction)"
   ]
  },
  {
   "cell_type": "code",
   "execution_count": 70,
   "id": "84126adf",
   "metadata": {},
   "outputs": [
    {
     "data": {
      "text/html": [
       "<div>\n",
       "<style scoped>\n",
       "    .dataframe tbody tr th:only-of-type {\n",
       "        vertical-align: middle;\n",
       "    }\n",
       "\n",
       "    .dataframe tbody tr th {\n",
       "        vertical-align: top;\n",
       "    }\n",
       "\n",
       "    .dataframe thead th {\n",
       "        text-align: right;\n",
       "    }\n",
       "</style>\n",
       "<table border=\"1\" class=\"dataframe\">\n",
       "  <thead>\n",
       "    <tr style=\"text-align: right;\">\n",
       "      <th></th>\n",
       "      <th>mlp</th>\n",
       "    </tr>\n",
       "  </thead>\n",
       "  <tbody>\n",
       "    <tr>\n",
       "      <th>0</th>\n",
       "      <td>0.618896</td>\n",
       "    </tr>\n",
       "    <tr>\n",
       "      <th>1</th>\n",
       "      <td>0.344441</td>\n",
       "    </tr>\n",
       "    <tr>\n",
       "      <th>2</th>\n",
       "      <td>0.768831</td>\n",
       "    </tr>\n",
       "    <tr>\n",
       "      <th>3</th>\n",
       "      <td>0.715625</td>\n",
       "    </tr>\n",
       "    <tr>\n",
       "      <th>4</th>\n",
       "      <td>3.624368</td>\n",
       "    </tr>\n",
       "    <tr>\n",
       "      <th>...</th>\n",
       "      <td>...</td>\n",
       "    </tr>\n",
       "    <tr>\n",
       "      <th>149845</th>\n",
       "      <td>0.572678</td>\n",
       "    </tr>\n",
       "    <tr>\n",
       "      <th>149846</th>\n",
       "      <td>0.487567</td>\n",
       "    </tr>\n",
       "    <tr>\n",
       "      <th>149847</th>\n",
       "      <td>0.582857</td>\n",
       "    </tr>\n",
       "    <tr>\n",
       "      <th>149848</th>\n",
       "      <td>0.670639</td>\n",
       "    </tr>\n",
       "    <tr>\n",
       "      <th>149849</th>\n",
       "      <td>0.547388</td>\n",
       "    </tr>\n",
       "  </tbody>\n",
       "</table>\n",
       "<p>149850 rows × 1 columns</p>\n",
       "</div>"
      ],
      "text/plain": [
       "             mlp\n",
       "0       0.618896\n",
       "1       0.344441\n",
       "2       0.768831\n",
       "3       0.715625\n",
       "4       3.624368\n",
       "...          ...\n",
       "149845  0.572678\n",
       "149846  0.487567\n",
       "149847  0.582857\n",
       "149848  0.670639\n",
       "149849  0.547388\n",
       "\n",
       "[149850 rows x 1 columns]"
      ]
     },
     "execution_count": 70,
     "metadata": {},
     "output_type": "execute_result"
    }
   ],
   "source": [
    "df_mlp_prediction= pd.DataFrame(mlp_prediction, columns = ['mlp'])\n",
    "df_mlp_prediction"
   ]
  },
  {
   "cell_type": "code",
   "execution_count": 71,
   "id": "025b57c9",
   "metadata": {},
   "outputs": [
    {
     "data": {
      "text/html": [
       "<div>\n",
       "<style scoped>\n",
       "    .dataframe tbody tr th:only-of-type {\n",
       "        vertical-align: middle;\n",
       "    }\n",
       "\n",
       "    .dataframe tbody tr th {\n",
       "        vertical-align: top;\n",
       "    }\n",
       "\n",
       "    .dataframe thead th {\n",
       "        text-align: right;\n",
       "    }\n",
       "</style>\n",
       "<table border=\"1\" class=\"dataframe\">\n",
       "  <thead>\n",
       "    <tr style=\"text-align: right;\">\n",
       "      <th></th>\n",
       "      <th>t_test</th>\n",
       "      <th>s_test</th>\n",
       "      <th>top_test</th>\n",
       "      <th>LinReg</th>\n",
       "      <th>forest</th>\n",
       "      <th>knn</th>\n",
       "      <th>mlp</th>\n",
       "    </tr>\n",
       "  </thead>\n",
       "  <tbody>\n",
       "    <tr>\n",
       "      <th>0</th>\n",
       "      <td>8401</td>\n",
       "      <td>7412</td>\n",
       "      <td>0.891790</td>\n",
       "      <td>0.602213</td>\n",
       "      <td>0.891259</td>\n",
       "      <td>0.890574</td>\n",
       "      <td>0.618896</td>\n",
       "    </tr>\n",
       "    <tr>\n",
       "      <th>1</th>\n",
       "      <td>44819</td>\n",
       "      <td>16265</td>\n",
       "      <td>0.369303</td>\n",
       "      <td>0.570771</td>\n",
       "      <td>0.369215</td>\n",
       "      <td>0.370623</td>\n",
       "      <td>0.344441</td>\n",
       "    </tr>\n",
       "    <tr>\n",
       "      <th>2</th>\n",
       "      <td>16</td>\n",
       "      <td>7</td>\n",
       "      <td>0.743830</td>\n",
       "      <td>0.596241</td>\n",
       "      <td>0.743830</td>\n",
       "      <td>0.743830</td>\n",
       "      <td>0.768831</td>\n",
       "    </tr>\n",
       "    <tr>\n",
       "      <th>3</th>\n",
       "      <td>26</td>\n",
       "      <td>18</td>\n",
       "      <td>0.874612</td>\n",
       "      <td>0.596253</td>\n",
       "      <td>0.874612</td>\n",
       "      <td>0.874612</td>\n",
       "      <td>0.715625</td>\n",
       "    </tr>\n",
       "    <tr>\n",
       "      <th>4</th>\n",
       "      <td>363569</td>\n",
       "      <td>318672</td>\n",
       "      <td>0.878034</td>\n",
       "      <td>0.849291</td>\n",
       "      <td>0.881162</td>\n",
       "      <td>0.884226</td>\n",
       "      <td>3.624368</td>\n",
       "    </tr>\n",
       "    <tr>\n",
       "      <th>...</th>\n",
       "      <td>...</td>\n",
       "      <td>...</td>\n",
       "      <td>...</td>\n",
       "      <td>...</td>\n",
       "      <td>...</td>\n",
       "      <td>...</td>\n",
       "      <td>...</td>\n",
       "    </tr>\n",
       "    <tr>\n",
       "      <th>149845</th>\n",
       "      <td>12120</td>\n",
       "      <td>7596</td>\n",
       "      <td>0.638979</td>\n",
       "      <td>0.597230</td>\n",
       "      <td>0.635772</td>\n",
       "      <td>0.639263</td>\n",
       "      <td>0.572678</td>\n",
       "    </tr>\n",
       "    <tr>\n",
       "      <th>149846</th>\n",
       "      <td>24063</td>\n",
       "      <td>10693</td>\n",
       "      <td>0.453384</td>\n",
       "      <td>0.587396</td>\n",
       "      <td>0.451254</td>\n",
       "      <td>0.454097</td>\n",
       "      <td>0.487567</td>\n",
       "    </tr>\n",
       "    <tr>\n",
       "      <th>149847</th>\n",
       "      <td>6036</td>\n",
       "      <td>4705</td>\n",
       "      <td>0.794099</td>\n",
       "      <td>0.599006</td>\n",
       "      <td>0.792059</td>\n",
       "      <td>0.794568</td>\n",
       "      <td>0.582857</td>\n",
       "    </tr>\n",
       "    <tr>\n",
       "      <th>149848</th>\n",
       "      <td>26</td>\n",
       "      <td>8</td>\n",
       "      <td>0.579448</td>\n",
       "      <td>0.596229</td>\n",
       "      <td>0.579448</td>\n",
       "      <td>0.579448</td>\n",
       "      <td>0.670639</td>\n",
       "    </tr>\n",
       "    <tr>\n",
       "      <th>149849</th>\n",
       "      <td>301</td>\n",
       "      <td>196</td>\n",
       "      <td>0.723526</td>\n",
       "      <td>0.596290</td>\n",
       "      <td>0.723430</td>\n",
       "      <td>0.721799</td>\n",
       "      <td>0.547388</td>\n",
       "    </tr>\n",
       "  </tbody>\n",
       "</table>\n",
       "<p>149850 rows × 7 columns</p>\n",
       "</div>"
      ],
      "text/plain": [
       "        t_test  s_test  top_test    LinReg    forest       knn       mlp\n",
       "0         8401    7412  0.891790  0.602213  0.891259  0.890574  0.618896\n",
       "1        44819   16265  0.369303  0.570771  0.369215  0.370623  0.344441\n",
       "2           16       7  0.743830  0.596241  0.743830  0.743830  0.768831\n",
       "3           26      18  0.874612  0.596253  0.874612  0.874612  0.715625\n",
       "4       363569  318672  0.878034  0.849291  0.881162  0.884226  3.624368\n",
       "...        ...     ...       ...       ...       ...       ...       ...\n",
       "149845   12120    7596  0.638979  0.597230  0.635772  0.639263  0.572678\n",
       "149846   24063   10693  0.453384  0.587396  0.451254  0.454097  0.487567\n",
       "149847    6036    4705  0.794099  0.599006  0.792059  0.794568  0.582857\n",
       "149848      26       8  0.579448  0.596229  0.579448  0.579448  0.670639\n",
       "149849     301     196  0.723526  0.596290  0.723430  0.721799  0.547388\n",
       "\n",
       "[149850 rows x 7 columns]"
      ]
     },
     "execution_count": 71,
     "metadata": {},
     "output_type": "execute_result"
    }
   ],
   "source": [
    "res = pd.concat([df_X_test, df_y_test, df_linReg_prediction, df_forest_prediction, df_knn_prediction, df_mlp_prediction],axis=1)\n",
    "res"
   ]
  },
  {
   "cell_type": "code",
   "execution_count": 72,
   "id": "69079392",
   "metadata": {},
   "outputs": [],
   "source": [
    "res.to_csv('result1000.csv',index=False)"
   ]
  },
  {
   "cell_type": "code",
   "execution_count": null,
   "id": "ab04b075",
   "metadata": {},
   "outputs": [],
   "source": []
  }
 ],
 "metadata": {
  "kernelspec": {
   "display_name": "Python 3",
   "language": "python",
   "name": "python3"
  },
  "language_info": {
   "codemirror_mode": {
    "name": "ipython",
    "version": 3
   },
   "file_extension": ".py",
   "mimetype": "text/x-python",
   "name": "python",
   "nbconvert_exporter": "python",
   "pygments_lexer": "ipython3",
   "version": "3.8.6rc1"
  }
 },
 "nbformat": 4,
 "nbformat_minor": 5
}
